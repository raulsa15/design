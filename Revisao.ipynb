{
  "cells": [
    {
      "cell_type": "markdown",
      "metadata": {
        "id": "view-in-github",
        "colab_type": "text"
      },
      "source": [
        "<a href=\"https://colab.research.google.com/github/raulsa15/design/blob/main/Revisao.ipynb\" target=\"_parent\"><img src=\"https://colab.research.google.com/assets/colab-badge.svg\" alt=\"Open In Colab\"/></a>"
      ]
    },
    {
      "cell_type": "markdown",
      "metadata": {
        "id": "Gn9j8fTNpiRu"
      },
      "source": [
        "# Revisão Rápida - Python\n"
      ]
    },
    {
      "cell_type": "markdown",
      "metadata": {
        "id": "Wg5DVAM8piRv"
      },
      "source": [
        "## **Antes de começarmos**\n",
        "\n",
        "1. Crie uma conta no GitHub: https://github.com/signup?source=login ou caso já tenha uma conta, faça a autenticação do seu usuário.\n",
        "2. Crie um repositório para utilizarmos durante as aulas. Este repositório precisa ter um arquivo \"README\", logo, marque a opção **\"Add a README file\"**.\n",
        "3. O nome pode do seu repositório pode ser **PADSW06MDCD**, por exemplo.\n",
        "4. Nesta Janela (que estamos agora), clique em Arquivo > Salvar uma Cópia no GitHub\n",
        "5. Em seguida, duas coisas podem acontecer (i) um **popup aparecer**: solicitando que você autorize o acesso ao seu **GitHub** por sua conta do **Colab** ou (ii) caso apareça alguma mensagem de erro, clique em \"Abrir em uma nova janela\".\n",
        "6. Em ambos os casos: autorize o acesso a sua conta do **GitHub**\n",
        "7. Por fim, escolha o repositório criado anteriormente e digite um comentário que represente a versão do seu projeto. Neste caso, pode ser. \"Copiando a lista de revisão\".\n",
        "\n",
        "\n",
        "- Google Colab\n",
        "    - colab.research.google.com/\n",
        "\n",
        "#### Sintáxe Básica Markdown\n",
        "\n",
        "[Material Aqui](https://www.markdownguide.org/basic-syntax/)\n",
        "\n",
        "Dicas Básicas de Sintáxe\n",
        "\n",
        "- Não utiliza ;\n",
        "- comentários podem ser feitos utilizando #\n",
        "- Variáveis precisam ser inicializada antes de seu uso\n",
        "- Podemos utilizar variáveis literais ou objetos\n",
        "- operações matemáticas básicas: + - / * ** %\n",
        "- Valor nulo é escrito como **None**\n",
        "- Blocos de códigos ou funções devem ter sempre *identação* ou seja, devem ter um tab para medir cada escopo\n",
        "- Blocos vazios devem conter pelo menos um comando **pass**\n",
        "- Saídas de dados podem ser feitas em sua maioria com o comando **print**, no entanto, saídas mais complexas funcionam sempre com **display**\n",
        "- Python possui tipagem "
      ]
    },
    {
      "cell_type": "markdown",
      "metadata": {
        "id": "v9b_KRsVpiRw"
      },
      "source": [
        "### Variáveis/Objetos\n",
        "\n",
        "- Crie um conjunto de variáveis para cada um dos tipos: número inteiro, string, booleano e número real\n",
        "- Exiba o conteúdo de uma destas variáveis e exiba o tipo de outra variável"
      ]
    },
    {
      "cell_type": "code",
      "execution_count": null,
      "metadata": {
        "id": "GI2fccBupiRw",
        "cellView": "form"
      },
      "outputs": [],
      "source": [
        "#@title Ver exemplo\n",
        "numero_vendas = 23000\n",
        "nome_disciplina = 'Métodos de Design para Ciência de Dados'\n",
        "nome_instituicao = \"Insper\"\n",
        "possui_diploma = True\n",
        "receita_bruta = 312312.24\n",
        "\n",
        "print(receita_bruta) #Saída de Dados\n",
        "print(type(possui_diploma)) #como verificar o tipo de dado | pode utilizar display () também"
      ]
    },
    {
      "cell_type": "code",
      "source": [
        "inteiro=1\n",
        "texto=\"abc\"\n",
        "booleano=True\n",
        "num_real=-0.5"
      ],
      "metadata": {
        "id": "GiPavqmeTQtb"
      },
      "execution_count": null,
      "outputs": []
    },
    {
      "cell_type": "code",
      "source": [
        "inteiro"
      ],
      "metadata": {
        "id": "ejtZltBUDlQR",
        "outputId": "81b6c63b-e44b-4b1a-9447-2ec24d6662e1",
        "colab": {
          "base_uri": "https://localhost:8080/"
        }
      },
      "execution_count": null,
      "outputs": [
        {
          "output_type": "execute_result",
          "data": {
            "text/plain": [
              "1"
            ]
          },
          "metadata": {},
          "execution_count": 2
        }
      ]
    },
    {
      "cell_type": "code",
      "source": [
        "type(booleano)"
      ],
      "metadata": {
        "id": "pT2X_peuDs73",
        "outputId": "bb85807d-46cd-4a25-e2ce-2707cadaa9c3",
        "colab": {
          "base_uri": "https://localhost:8080/"
        }
      },
      "execution_count": null,
      "outputs": [
        {
          "output_type": "execute_result",
          "data": {
            "text/plain": [
              "bool"
            ]
          },
          "metadata": {},
          "execution_count": 3
        }
      ]
    },
    {
      "cell_type": "markdown",
      "metadata": {
        "id": "DSUCJHb9piRx"
      },
      "source": [
        "### Entrada e Saída de Dados\n",
        "\n",
        "- Realize a leitura de um dado do tipo String e exiba este texto apenas com letras maísculas\n",
        "\n",
        "Dica.: Métodos de uma String em Python\n",
        "https://www.w3schools.com/python/python_ref_string.asp\n"
      ]
    },
    {
      "cell_type": "code",
      "execution_count": null,
      "metadata": {
        "id": "E7sOsU7kpiRy",
        "cellView": "form"
      },
      "outputs": [],
      "source": [
        "#@title Ver exemplo\n",
        "nome_usuario = input('Insira um nome aqui:') #para ler dados do usuário\n",
        "print('Nome com letras maísculas: ', nome_usuario.upper()) #printando nome e mostrando tudo em letra maiúscula"
      ]
    },
    {
      "cell_type": "code",
      "source": [
        "texto.upper()"
      ],
      "metadata": {
        "id": "YzKhsr3-X_gp",
        "colab": {
          "base_uri": "https://localhost:8080/",
          "height": 36
        },
        "outputId": "21096c60-4e18-4d3b-9fbc-bb2f04209dbf"
      },
      "execution_count": null,
      "outputs": [
        {
          "output_type": "execute_result",
          "data": {
            "text/plain": [
              "'ABC'"
            ],
            "application/vnd.google.colaboratory.intrinsic+json": {
              "type": "string"
            }
          },
          "metadata": {},
          "execution_count": 5
        }
      ]
    },
    {
      "cell_type": "markdown",
      "source": [
        "- Realize a leitura de um dado do tipo inteiro, alocaondo-o em uma variável e exiba o conteúdo desta variável no meio de um texto."
      ],
      "metadata": {
        "id": "9nPDCl5GS81e"
      }
    },
    {
      "cell_type": "markdown",
      "source": [
        ""
      ],
      "metadata": {
        "id": "9bo4r1SkEGFX"
      }
    },
    {
      "cell_type": "code",
      "source": [
        "idade=int(input(\"Qual a sua idade? \"))\n",
        "print(\"Você tem\",idade,\"anos.\")"
      ],
      "metadata": {
        "id": "9M9RR3aKX_EZ",
        "colab": {
          "base_uri": "https://localhost:8080/"
        },
        "outputId": "3d015429-371a-41ce-d471-3499b74eeb40"
      },
      "execution_count": null,
      "outputs": [
        {
          "output_type": "stream",
          "name": "stdout",
          "text": [
            "Qual a sua idade? 10\n",
            "Você tem 10 anos.\n"
          ]
        }
      ]
    },
    {
      "cell_type": "markdown",
      "source": [
        "- Crie um par de constantes reais e exiba o resultado de uma operação matemática, utilizando estas constantes em uma saída de dados (utilizando print). Após isso, garanta que o resultado do cálculo tenha apenas duas casas decimáis."
      ],
      "metadata": {
        "id": "XoObw2t6TU4X"
      }
    },
    {
      "cell_type": "code",
      "execution_count": null,
      "metadata": {
        "id": "f2H0h7rUpiRy",
        "cellView": "form"
      },
      "outputs": [],
      "source": [
        "#@title Ver exemplo\n",
        "pi = 3.1415926535\n",
        "salario = 15341.14\n",
        "print('O novo salário: R${0:.2f}, após o aumento, é de: R${1:.2f}'.format(salario, salario * pi)) #outra forma de utilizar variáveis com dados"
      ]
    },
    {
      "cell_type": "code",
      "source": [
        "x=2.55\n",
        "y=3.445\n",
        "print(\"{:.2f}\".format(x+y))"
      ],
      "metadata": {
        "id": "bFjZrjaTTiGk",
        "colab": {
          "base_uri": "https://localhost:8080/"
        },
        "outputId": "5a8005ff-3100-48b5-9752-f3f425b78f0c"
      },
      "execution_count": null,
      "outputs": [
        {
          "output_type": "stream",
          "name": "stdout",
          "text": [
            "5.99\n"
          ]
        }
      ]
    },
    {
      "cell_type": "markdown",
      "source": [
        "### Operações com String\n",
        "\n",
        "- Armazene um e-mail em uma variável, por exemplo, homer@simpson.com e separe o nome do usuário {homer} do serviço de e-mail {simpson}"
      ],
      "metadata": {
        "id": "4qO8tIdMxB1Q"
      }
    },
    {
      "cell_type": "code",
      "execution_count": null,
      "metadata": {
        "id": "of8D-wk9piRy",
        "cellView": "form"
      },
      "outputs": [],
      "source": [
        "#@title Ver exemplo\n",
        "texto_complexo = 'homer@simpson.com'\n",
        "\n",
        "usuario = texto_complexo.split('@')[0] #operações com String (split gera uma lista de dados)\n",
        "dominio = texto_complexo.split('@')[1].split('.')[0]\n",
        "\n",
        "print(\"Usuário: {0} - Domínio: {1}\".format(usuario, dominio))"
      ]
    },
    {
      "cell_type": "code",
      "source": [
        "email=\"homer@simpson.com\"\n",
        "x = email.split(\"@\")\n",
        "usuario=x[0]\n",
        "servico=x[1].split(\".\")[0]\n",
        "print(usuario,\"\\n\",servico)"
      ],
      "metadata": {
        "id": "N6sFoglUX-To",
        "colab": {
          "base_uri": "https://localhost:8080/"
        },
        "outputId": "99ad0a90-d4a7-4450-9a89-5d9379413f4c"
      },
      "execution_count": null,
      "outputs": [
        {
          "output_type": "stream",
          "name": "stdout",
          "text": [
            "homer \n",
            " simpson\n"
          ]
        }
      ]
    },
    {
      "cell_type": "markdown",
      "source": [
        "- Crie uma lista contendo os dados\n",
        "['São Paulo - SP', 'Itajaí - SC', 'Rio de Janeiro - RJ']\n",
        "- Após isso, exiba apenas os estados de cada cidade."
      ],
      "metadata": {
        "id": "lAHFue05UR16"
      }
    },
    {
      "cell_type": "code",
      "execution_count": null,
      "metadata": {
        "id": "4Owl5sz5piRy",
        "colab": {
          "base_uri": "https://localhost:8080/"
        },
        "outputId": "c3fd8259-8851-45d4-81e1-e441e2f04859"
      },
      "outputs": [
        {
          "output_type": "stream",
          "name": "stdout",
          "text": [
            " SP\n",
            " SC\n",
            " RJ\n"
          ]
        }
      ],
      "source": [
        "#@title Ver exemplo\n",
        "lista_textos = ['São Paulo - SP', 'Itajaí - SC', 'Rio de Janeiro - RJ']\n",
        "\n",
        "for um_texto in lista_textos:\n",
        "    print(um_texto.split('-')[1].split('|')[0])"
      ]
    },
    {
      "cell_type": "code",
      "source": [
        "lista=['São Paulo - SP', 'Itajaí - SC', 'Rio de Janeiro - RJ']\n",
        "lista_estado=[]\n",
        "for cidade in lista:\n",
        "  x=cidade.split(\"-\")[1]\n",
        "  x=x.strip()\n",
        "  lista_estado.append(x)\n",
        "\n",
        "lista_estado"
      ],
      "metadata": {
        "id": "TkYoXcB4X91D",
        "colab": {
          "base_uri": "https://localhost:8080/"
        },
        "outputId": "b777862b-c56d-4cba-cc75-3bab63a66a5a"
      },
      "execution_count": 122,
      "outputs": [
        {
          "output_type": "execute_result",
          "data": {
            "text/plain": [
              "['SP', 'SC', 'RJ']"
            ]
          },
          "metadata": {},
          "execution_count": 122
        }
      ]
    },
    {
      "cell_type": "markdown",
      "metadata": {
        "id": "9ZLELgfrpiRz"
      },
      "source": [
        "### Coleções\n",
        "#### Listas\n",
        "\n",
        "Explore a documentação da coleção do tipo List https://www.w3schools.com/python/python_ref_list.asp e demonstre o uso de alguns destes métodos."
      ]
    },
    {
      "cell_type": "code",
      "execution_count": null,
      "metadata": {
        "id": "Z3X9BZcCpiRz",
        "cellView": "form"
      },
      "outputs": [],
      "source": [
        "#@title Ver exemplo\n",
        "nome1 = 'Luiz Durão' #variável de texto (str)\n",
        "nome2 = 'André Santana'\n",
        "\n",
        "lista_jamais_utilizada = []\n",
        "lista_nomes = [nome1, 'Matheus', 'Caio']\n",
        "lista_nomes.append('Ana') #anexa um elemento ao final da lista que invoca o método\n",
        "lista_nomes.append(nome2)\n",
        "\n",
        "lista_nomes_pool = ['José','Abner' ,'Luiza']\n",
        "lista_nomes.extend(lista_nomes_pool) #anexa uma lista ao final da lista que invoca o método\n",
        "\n",
        "print(lista_nomes[4])\n",
        "print(lista_nomes)\n",
        "\n",
        "lista_nomes.sort() #ordenar\n",
        "#print('Lista Ordenada: ', lista_nomes)\n",
        "lista_nomes.clear() #apagar\n",
        "#print('Lista vazia: ',lista_nomes)"
      ]
    },
    {
      "cell_type": "code",
      "source": [
        "lista_estado.insert(1,'MG')\n",
        "lista_estado"
      ],
      "metadata": {
        "id": "MGFvtJaiX9WW",
        "colab": {
          "base_uri": "https://localhost:8080/"
        },
        "outputId": "5dbd3949-c63a-404b-eb08-af376967615b"
      },
      "execution_count": 17,
      "outputs": [
        {
          "output_type": "execute_result",
          "data": {
            "text/plain": [
              "[' SP', 'MG', ' SC', ' RJ']"
            ]
          },
          "metadata": {},
          "execution_count": 17
        }
      ]
    },
    {
      "cell_type": "code",
      "source": [
        "lista_estado.reverse()\n",
        "lista_estado"
      ],
      "metadata": {
        "colab": {
          "base_uri": "https://localhost:8080/"
        },
        "id": "VU30igBfPTB0",
        "outputId": "b01ba0f1-871b-481c-cd95-ec357a66e28d"
      },
      "execution_count": 18,
      "outputs": [
        {
          "output_type": "execute_result",
          "data": {
            "text/plain": [
              "[' RJ', ' SC', 'MG', ' SP']"
            ]
          },
          "metadata": {},
          "execution_count": 18
        }
      ]
    },
    {
      "cell_type": "code",
      "source": [
        "lista_estado.pop(0)\n",
        "lista_estado"
      ],
      "metadata": {
        "colab": {
          "base_uri": "https://localhost:8080/"
        },
        "id": "di_t0MlDPTID",
        "outputId": "b5c10c53-96e3-4314-d1d9-91833e7a885d"
      },
      "execution_count": 22,
      "outputs": [
        {
          "output_type": "execute_result",
          "data": {
            "text/plain": [
              "[' SC', 'MG', ' SP']"
            ]
          },
          "metadata": {},
          "execution_count": 22
        }
      ]
    },
    {
      "cell_type": "markdown",
      "metadata": {
        "id": "9hebG_aKpiRz"
      },
      "source": [
        "#### Estrutura de Repetição\n",
        "\n",
        "- Utilize um laço de repetição para exibir os nomes da lista criada no exemplo anterior."
      ]
    },
    {
      "cell_type": "code",
      "source": [
        "for nome in lista_estado:\n",
        "  print(nome)"
      ],
      "metadata": {
        "id": "37hTZqPDX9B2",
        "colab": {
          "base_uri": "https://localhost:8080/"
        },
        "outputId": "4618a798-67ef-4445-fb68-8175985a3a02"
      },
      "execution_count": 24,
      "outputs": [
        {
          "output_type": "stream",
          "name": "stdout",
          "text": [
            " SC\n",
            "MG\n",
            " SP\n"
          ]
        }
      ]
    },
    {
      "cell_type": "markdown",
      "metadata": {
        "id": "L5q056AYpiR0"
      },
      "source": [
        "#### Dicionários\n",
        "\n",
        "- Dicionário é uma coleção não-ordenada, mutável e indexada. Em python, utilizamos { } para sua criação e tratamos sempre de pares de chaves e valores.\n",
        "- Os elementos podem ser acessados com [] informado a chave desejada.\n",
        "- Explore as operações de um dicionário: crie um dicionário, adicione uma nova chave, altere o conteúdo de uma chave, exiba as chaves e valores do dicionário e utilize um laço de repetição para mostrar apenas os valores deste dicionário (sem as chaves).\n",
        "\n"
      ]
    },
    {
      "cell_type": "code",
      "execution_count": null,
      "metadata": {
        "id": "odsP85q0piR0",
        "cellView": "form"
      },
      "outputs": [],
      "source": [
        "#@title Ver exemplo\n",
        "dicionario_homer = {'nome':'Homer', 'sobre_nome': 'Simpson', 'idade':39, 'cidade_natal':'Springfield'}\n",
        "print('\\nDicionário\\n',dicionario_homer)\n",
        "\n",
        "dicionario_homer['nome'] = 'Homer Jay' #para mudar um valor de uma chave ou criar uma nova chave\n",
        " \n",
        "print('\\nNome = ', dicionario_homer['nome'])\n",
        "\n",
        "#exibindo as chaves do dicionário como uma lista\n",
        "print('\\n',dicionario_homer.keys())\n",
        "\n",
        "#exibindo os valores no dicionário como uma lista\n",
        "print('\\n',dicionario_homer.values(), '\\n')\n",
        "\n",
        "#para remover um item\n",
        "dicionario_homer.pop('nome')\n",
        "\n",
        "#percorrendo o dicinionário, \"iterando as chaves\"\n",
        "for chave in dicionario_homer.values():\n",
        "    print(chave)"
      ]
    },
    {
      "cell_type": "code",
      "source": [
        "dicionario={'a':\"Argentina\",'b':\"Brasil\",'c':\"Alemanha\"}"
      ],
      "metadata": {
        "id": "8iCq_kWIX8lu"
      },
      "execution_count": 26,
      "outputs": []
    },
    {
      "cell_type": "code",
      "source": [
        "dicionario['a']"
      ],
      "metadata": {
        "colab": {
          "base_uri": "https://localhost:8080/",
          "height": 36
        },
        "id": "C1ETh6NlQkGs",
        "outputId": "692cd51e-c2d5-4641-f793-baf0e83740d0"
      },
      "execution_count": 28,
      "outputs": [
        {
          "output_type": "execute_result",
          "data": {
            "text/plain": [
              "'Argentina'"
            ],
            "application/vnd.google.colaboratory.intrinsic+json": {
              "type": "string"
            }
          },
          "metadata": {},
          "execution_count": 28
        }
      ]
    },
    {
      "cell_type": "code",
      "source": [
        "dicionario['d']='Holanda'\n",
        "dicionario"
      ],
      "metadata": {
        "colab": {
          "base_uri": "https://localhost:8080/"
        },
        "id": "70UAEroKQkJT",
        "outputId": "ed69eaa3-4f2a-4432-b98a-ea221f84fefb"
      },
      "execution_count": 29,
      "outputs": [
        {
          "output_type": "execute_result",
          "data": {
            "text/plain": [
              "{'a': 'Argentina', 'b': 'Brasil', 'c': 'Alemanha', 'd': 'Holanda'}"
            ]
          },
          "metadata": {},
          "execution_count": 29
        }
      ]
    },
    {
      "cell_type": "code",
      "source": [
        "dicionario['a']='Bolivia'"
      ],
      "metadata": {
        "id": "9swmrL0zQ6XZ"
      },
      "execution_count": 30,
      "outputs": []
    },
    {
      "cell_type": "code",
      "source": [
        "dicionario"
      ],
      "metadata": {
        "colab": {
          "base_uri": "https://localhost:8080/"
        },
        "id": "C2okghJdQ-CZ",
        "outputId": "7dd8893b-31d7-433b-fb35-cbda87d258de"
      },
      "execution_count": 31,
      "outputs": [
        {
          "output_type": "execute_result",
          "data": {
            "text/plain": [
              "{'a': 'Bolivia', 'b': 'Brasil', 'c': 'Alemanha', 'd': 'Holanda'}"
            ]
          },
          "metadata": {},
          "execution_count": 31
        }
      ]
    },
    {
      "cell_type": "code",
      "source": [
        "for pais in dicionario:\n",
        "  print(dicionario[pais])"
      ],
      "metadata": {
        "colab": {
          "base_uri": "https://localhost:8080/"
        },
        "id": "bnUlFhP9RD3x",
        "outputId": "5fd8bfb6-7ff2-434c-d30e-82fd7af803b7"
      },
      "execution_count": 34,
      "outputs": [
        {
          "output_type": "stream",
          "name": "stdout",
          "text": [
            "Bolivia\n",
            "Brasil\n",
            "Alemanha\n",
            "Holanda\n"
          ]
        }
      ]
    },
    {
      "cell_type": "markdown",
      "metadata": {
        "id": "sopYnFgtpiR0"
      },
      "source": [
        "### Métodos & Subrotinas\n",
        "**Criando \"Procedimentos/Subrotinas\"**\n",
        "\n",
        "- Crie um conjunto de funções com e sem parâmetros, com e sem retorno"
      ]
    },
    {
      "cell_type": "code",
      "execution_count": null,
      "metadata": {
        "id": "6XeV3owdpiR0",
        "cellView": "form"
      },
      "outputs": [],
      "source": [
        "#@title Ver exemplo\n",
        "def retornarNomeAleatorio() -> str:\n",
        "    return \"Rick\"\n",
        "\n",
        "def exibirSaudacaoNome(nome : str) -> None:\n",
        "    print('Olá,', nome)\n",
        "\n",
        "def somarDoisNumeros(numero1, numero2):\n",
        "    return numero1 + numero2\n",
        "\n",
        "def calcularPotencia(base, expoente):\n",
        "    return base ** expoente\n",
        "\n",
        "def separarEstadoCidade(textoCompleto):\n",
        "    resultado = textoCompleto.split('-')\n",
        "    return resultado"
      ]
    },
    {
      "cell_type": "code",
      "source": [
        "def soma():\n",
        "  x=1\n",
        "  y=1\n",
        "  print(x+y)"
      ],
      "metadata": {
        "id": "Aywg3DUHX8JP"
      },
      "execution_count": 58,
      "outputs": []
    },
    {
      "cell_type": "code",
      "source": [
        "soma()"
      ],
      "metadata": {
        "colab": {
          "base_uri": "https://localhost:8080/"
        },
        "id": "n3EYwlV2Rs1R",
        "outputId": "b0910fba-df2e-40ce-b88c-8409af0bc7b2"
      },
      "execution_count": 38,
      "outputs": [
        {
          "output_type": "stream",
          "name": "stdout",
          "text": [
            "2\n"
          ]
        }
      ]
    },
    {
      "cell_type": "code",
      "source": [
        "def lista(x,y):\n",
        "  lista=[]\n",
        "  lista.append(x)\n",
        "  lista.append(y)\n",
        "  return lista"
      ],
      "metadata": {
        "id": "belYjqHvRwaw"
      },
      "execution_count": 55,
      "outputs": []
    },
    {
      "cell_type": "code",
      "source": [
        "lista(1,2)"
      ],
      "metadata": {
        "colab": {
          "base_uri": "https://localhost:8080/"
        },
        "id": "omFtheBzSB66",
        "outputId": "33708da0-f1b7-4a50-d518-74b7eb7db399"
      },
      "execution_count": 56,
      "outputs": [
        {
          "output_type": "execute_result",
          "data": {
            "text/plain": [
              "[1, 2]"
            ]
          },
          "metadata": {},
          "execution_count": 56
        }
      ]
    },
    {
      "cell_type": "markdown",
      "metadata": {
        "id": "3a4RjRfZpiR1"
      },
      "source": [
        "**Como utilizar os métodos criados**\n",
        "\n",
        "- Inicialmente, você deve cria-los em alguma célula e \"executar\" estes procedimentos antes do seu uso.\n",
        "- Em sequência, você deve chamar o método na célula em que deseja utiliza-lo, atentado-se ao nome do método, aos parâmetros enviados (quantidade e ordem) e se este método retornará ou não alguma resposta."
      ]
    },
    {
      "cell_type": "code",
      "execution_count": null,
      "metadata": {
        "id": "y1YgpmnapiR1",
        "cellView": "form"
      },
      "outputs": [],
      "source": [
        "#@title Ver exemplo\n",
        "n1 = 'Homer'\n",
        "exibirSaudacaoNome(n1) #podemos utilizar uma variável\n",
        "exibirSaudacaoNome('Simpson') #ou envir um valor diretamente\n",
        "\n",
        "result = somarDoisNumeros(3,5) #podemos retornar e armazenar o resultado em uma variável\n",
        "print(somarDoisNumeros(13, 21)) #ou pegar seu retorno e diretamente \"printar na tela\"\n",
        "\n",
        "base = 2\n",
        "exp = 8\n",
        "print(calcularPotencia(base, 5)) #a variavel pode ter o mesmo nome la da função original\n",
        "print(calcularPotencia(base, exp)) #ou pode ter um nome diferente!\n",
        "\n",
        "print(separarEstadoCidade('São Paulo - SP')) #mas fique atento, a função depende de suas regras pra funcionar\n",
        "#print(separarEstadoCidade('São Paulo | SP')) #descomente o primeiro # desta linha para ver o que acontece!"
      ]
    },
    {
      "cell_type": "code",
      "source": [
        "soma()"
      ],
      "metadata": {
        "id": "0xiZjn4eX7s3",
        "colab": {
          "base_uri": "https://localhost:8080/"
        },
        "outputId": "9369f63a-55a9-4ca8-bc4c-7268f6b573b3"
      },
      "execution_count": 59,
      "outputs": [
        {
          "output_type": "stream",
          "name": "stdout",
          "text": [
            "2\n"
          ]
        }
      ]
    },
    {
      "cell_type": "code",
      "source": [
        "lista(1,2)"
      ],
      "metadata": {
        "colab": {
          "base_uri": "https://localhost:8080/"
        },
        "id": "LtVm-Kf_S8Q3",
        "outputId": "889b181d-62fb-4ad5-dae5-136191fd4f5a"
      },
      "execution_count": 60,
      "outputs": [
        {
          "output_type": "execute_result",
          "data": {
            "text/plain": [
              "[1, 2]"
            ]
          },
          "metadata": {},
          "execution_count": 60
        }
      ]
    },
    {
      "cell_type": "markdown",
      "metadata": {
        "id": "D0PM7f8ApiR1"
      },
      "source": [
        "### Bibliotecas - Estatística (Pandas)\n",
        "\n",
        "1. Importe a biblioteca pandas (caso necessário, instale com: pip install pandas)\n",
        "2. Coloque seu conjunto de dados no mesmo diretório em que seu notebook foi criado\n",
        "2. Utilize pd.**read_excel**('nome.extensao') para ler planilhas do excel e pd.**read_csv**('nome.extensao') para ler arquivos csv\n",
        "\n",
        "Links Rápidos\n",
        "\n",
        "- https://pandas.pydata.org/\n",
        "- https://pandas.pydata.org/docs/reference/api/pandas.DataFrame.html\n"
      ]
    },
    {
      "cell_type": "markdown",
      "source": [
        "#### Importando um conjunto de dados\n",
        "\n",
        "- Lembre-se que o separador de um CSV pode ser diferente, neste caso, inclua delimiter = \";\" em que ; deve ser substituído pelo separador\n",
        "- Importe a os dados do arquivo olist_orders_dataset.csv em uma variável e exiba o seu conteúdo.\n",
        "- Os dados podem ser baixados em: https://www.kaggle.com/olistbr/brazilian-ecommerce\n",
        "- Todos os conjuntos de dados utilizados nos próximos exemplos estão associados aos dados da OlistBr"
      ],
      "metadata": {
        "id": "cXUIfPVAxI63"
      }
    },
    {
      "cell_type": "code",
      "execution_count": null,
      "metadata": {
        "id": "D43morclpiR1",
        "cellView": "form"
      },
      "outputs": [],
      "source": [
        "#@title Ver exemplo\n",
        "import pandas as pd\n",
        "\n",
        "df = pd.read_csv('olist_orders_dataset.csv') #faz a leitura de uma planilha, dado o seu caminho\n",
        "display(df) #exibe os resultados da planilha"
      ]
    },
    {
      "cell_type": "code",
      "source": [
        "pip install pandas"
      ],
      "metadata": {
        "id": "huwq0-0GX6ZW",
        "colab": {
          "base_uri": "https://localhost:8080/"
        },
        "outputId": "71f278d4-a201-48bf-cfd8-0c3960d9e2fa"
      },
      "execution_count": 61,
      "outputs": [
        {
          "output_type": "stream",
          "name": "stdout",
          "text": [
            "Looking in indexes: https://pypi.org/simple, https://us-python.pkg.dev/colab-wheels/public/simple/\n",
            "Requirement already satisfied: pandas in /usr/local/lib/python3.7/dist-packages (1.3.5)\n",
            "Requirement already satisfied: numpy>=1.17.3 in /usr/local/lib/python3.7/dist-packages (from pandas) (1.21.6)\n",
            "Requirement already satisfied: pytz>=2017.3 in /usr/local/lib/python3.7/dist-packages (from pandas) (2022.1)\n",
            "Requirement already satisfied: python-dateutil>=2.7.3 in /usr/local/lib/python3.7/dist-packages (from pandas) (2.8.2)\n",
            "Requirement already satisfied: six>=1.5 in /usr/local/lib/python3.7/dist-packages (from python-dateutil>=2.7.3->pandas) (1.15.0)\n"
          ]
        }
      ]
    },
    {
      "cell_type": "code",
      "source": [
        "import pandas as pd"
      ],
      "metadata": {
        "id": "PURHS2s0UBen"
      },
      "execution_count": 62,
      "outputs": []
    },
    {
      "cell_type": "markdown",
      "source": [
        "#### Percorrendo um DataFrame\n",
        "\n",
        "- Percorra um DataFrame, mostrando o 'customer_id' das 10 primeiras tuplas (linhas) da base de dados\n",
        "- Dica: iterrows()"
      ],
      "metadata": {
        "id": "dlfx2qxPt5gb"
      }
    },
    {
      "cell_type": "code",
      "execution_count": null,
      "metadata": {
        "id": "0B6ypwuupiR2"
      },
      "outputs": [],
      "source": [
        "#@title Ver exemplo\n",
        "for index, row in df.iterrows(): #percorrer cada uma das linhas do DataFrame, acessando uma coluna específica para os dez primeiros elementos\n",
        "    display(row['customer_id'])\n",
        "    if index == 9:\n",
        "      break"
      ]
    },
    {
      "cell_type": "code",
      "source": [
        "customer_id=pd.read_csv(\"olist_customers_dataset.csv\")"
      ],
      "metadata": {
        "id": "uWav52zBX57F"
      },
      "execution_count": 74,
      "outputs": []
    },
    {
      "cell_type": "code",
      "source": [
        "customer_id['customer_id'].head(10)"
      ],
      "metadata": {
        "colab": {
          "base_uri": "https://localhost:8080/"
        },
        "id": "mA0DZ6rwWLIM",
        "outputId": "b902dc92-d468-4c2d-a407-c5a9cf9fe388"
      },
      "execution_count": 118,
      "outputs": [
        {
          "output_type": "execute_result",
          "data": {
            "text/plain": [
              "0    06b8999e2fba1a1fbc88172c00ba8bc7\n",
              "1    18955e83d337fd6b2def6b18a428ac77\n",
              "2    4e7b3e00288586ebd08712fdd0374a03\n",
              "3    b2b6027bc5c5109e529d4dc6358b12c3\n",
              "4    4f2d8ab171c80ec8364f7c12e35b23ad\n",
              "5    879864dab9bc3047522c92c82e1212b8\n",
              "6    fd826e7cf63160e536e0908c76c3f441\n",
              "7    5e274e7a0c3809e14aba7ad5aae0d407\n",
              "8    5adf08e34b2e993982a47070956c5c65\n",
              "9    4b7139f34592b3a31687243a302fa75b\n",
              "Name: customer_id, dtype: object"
            ]
          },
          "metadata": {},
          "execution_count": 118
        }
      ]
    },
    {
      "cell_type": "code",
      "source": [
        "for index, row in customer_id.iterrows(): #percorrer cada uma das linhas do DataFrame, acessando uma coluna específica para os dez primeiros elementos\n",
        "    display(row['customer_id'])\n",
        "    if index == 9:\n",
        "      break"
      ],
      "metadata": {
        "colab": {
          "base_uri": "https://localhost:8080/",
          "height": 203
        },
        "id": "NCKT7ZO9eCPU",
        "outputId": "f34f1b72-d88e-4ff9-bfb1-04d9c5d6efea"
      },
      "execution_count": 121,
      "outputs": [
        {
          "output_type": "display_data",
          "data": {
            "text/plain": [
              "'06b8999e2fba1a1fbc88172c00ba8bc7'"
            ],
            "application/vnd.google.colaboratory.intrinsic+json": {
              "type": "string"
            }
          },
          "metadata": {}
        },
        {
          "output_type": "display_data",
          "data": {
            "text/plain": [
              "'18955e83d337fd6b2def6b18a428ac77'"
            ],
            "application/vnd.google.colaboratory.intrinsic+json": {
              "type": "string"
            }
          },
          "metadata": {}
        },
        {
          "output_type": "display_data",
          "data": {
            "text/plain": [
              "'4e7b3e00288586ebd08712fdd0374a03'"
            ],
            "application/vnd.google.colaboratory.intrinsic+json": {
              "type": "string"
            }
          },
          "metadata": {}
        },
        {
          "output_type": "display_data",
          "data": {
            "text/plain": [
              "'b2b6027bc5c5109e529d4dc6358b12c3'"
            ],
            "application/vnd.google.colaboratory.intrinsic+json": {
              "type": "string"
            }
          },
          "metadata": {}
        },
        {
          "output_type": "display_data",
          "data": {
            "text/plain": [
              "'4f2d8ab171c80ec8364f7c12e35b23ad'"
            ],
            "application/vnd.google.colaboratory.intrinsic+json": {
              "type": "string"
            }
          },
          "metadata": {}
        },
        {
          "output_type": "display_data",
          "data": {
            "text/plain": [
              "'879864dab9bc3047522c92c82e1212b8'"
            ],
            "application/vnd.google.colaboratory.intrinsic+json": {
              "type": "string"
            }
          },
          "metadata": {}
        },
        {
          "output_type": "display_data",
          "data": {
            "text/plain": [
              "'fd826e7cf63160e536e0908c76c3f441'"
            ],
            "application/vnd.google.colaboratory.intrinsic+json": {
              "type": "string"
            }
          },
          "metadata": {}
        },
        {
          "output_type": "display_data",
          "data": {
            "text/plain": [
              "'5e274e7a0c3809e14aba7ad5aae0d407'"
            ],
            "application/vnd.google.colaboratory.intrinsic+json": {
              "type": "string"
            }
          },
          "metadata": {}
        },
        {
          "output_type": "display_data",
          "data": {
            "text/plain": [
              "'5adf08e34b2e993982a47070956c5c65'"
            ],
            "application/vnd.google.colaboratory.intrinsic+json": {
              "type": "string"
            }
          },
          "metadata": {}
        },
        {
          "output_type": "display_data",
          "data": {
            "text/plain": [
              "'4b7139f34592b3a31687243a302fa75b'"
            ],
            "application/vnd.google.colaboratory.intrinsic+json": {
              "type": "string"
            }
          },
          "metadata": {}
        }
      ]
    },
    {
      "cell_type": "markdown",
      "metadata": {
        "id": "Iad-4088piR2"
      },
      "source": [
        "#### Extraíndo uma Serie do DataFrame\n",
        "- Para acessar apenas uma coluna, extraindo uma Serie do DataFrame, utilize ['identificado_o_header_aqui']\n",
        "- Caso precise ver quais os nomes dos 'Headers', imprima as chaves de seu DataFrame\n",
        "- Importe o arquivo de dados olist_order_payments_dataset.csv em uma variável, exiba-o e em seguida, exiba somente a coluna 'payment_value'"
      ]
    },
    {
      "cell_type": "code",
      "execution_count": null,
      "metadata": {
        "id": "CQSQLjs1piR2",
        "cellView": "form"
      },
      "outputs": [],
      "source": [
        "#@title Ver exemplo\n",
        "df_payments = pd.read_csv(\"olist_order_payments_dataset.csv\")\n",
        "display(df_payments)\n",
        "\n",
        "#para ver as chaves\n",
        "print('\\n\\nNomes dos Headers\\n\\n',df_payments.keys(), \"\\n\")\n",
        "\n",
        "df_payments_payvalue = df_payments['payment_value']\n",
        "display(df_payments_payvalue) ##temos apenas uma das colunas aqui!\n",
        "\n"
      ]
    },
    {
      "cell_type": "code",
      "source": [
        "customer_id['customer_city']"
      ],
      "metadata": {
        "id": "4OQnUtvnX5fs",
        "colab": {
          "base_uri": "https://localhost:8080/"
        },
        "outputId": "0e59cb3b-cd5b-4bb1-f6f3-bf0affd21c6a"
      },
      "execution_count": 81,
      "outputs": [
        {
          "output_type": "execute_result",
          "data": {
            "text/plain": [
              "0                       franca\n",
              "1        sao bernardo do campo\n",
              "2                    sao paulo\n",
              "3              mogi das cruzes\n",
              "4                     campinas\n",
              "                 ...          \n",
              "11542                 paulinia\n",
              "11543           belo horizonte\n",
              "11544                sao paulo\n",
              "11545            volta redonda\n",
              "11546         sao bernardo do \n",
              "Name: customer_city, Length: 11547, dtype: object"
            ]
          },
          "metadata": {},
          "execution_count": 81
        }
      ]
    },
    {
      "cell_type": "code",
      "source": [
        "customer_id.columns"
      ],
      "metadata": {
        "colab": {
          "base_uri": "https://localhost:8080/"
        },
        "id": "Ljq1BPcoWrrF",
        "outputId": "f1aba92d-8ef1-4d58-b7f0-e7b8e72a8df6"
      },
      "execution_count": 84,
      "outputs": [
        {
          "output_type": "execute_result",
          "data": {
            "text/plain": [
              "Index(['customer_id', 'customer_unique_id', 'customer_zip_code_prefix',\n",
              "       'customer_city', 'customer_state'],\n",
              "      dtype='object')"
            ]
          },
          "metadata": {},
          "execution_count": 84
        }
      ]
    },
    {
      "cell_type": "code",
      "source": [
        "order_payments=pd.read_csv(\"olist_order_payments_dataset.csv\")"
      ],
      "metadata": {
        "id": "4y8aBdQvWyyb"
      },
      "execution_count": 86,
      "outputs": []
    },
    {
      "cell_type": "code",
      "source": [
        "order_payments['payment_value'].head(10)"
      ],
      "metadata": {
        "colab": {
          "base_uri": "https://localhost:8080/"
        },
        "id": "iLcGgntEW_sl",
        "outputId": "f729bee4-2162-4ef4-9009-219d97fd0111"
      },
      "execution_count": 90,
      "outputs": [
        {
          "output_type": "execute_result",
          "data": {
            "text/plain": [
              "0     99.33\n",
              "1     24.39\n",
              "2     65.71\n",
              "3    107.78\n",
              "4    128.45\n",
              "5     96.12\n",
              "6     81.16\n",
              "7     51.84\n",
              "8    341.09\n",
              "9     51.95\n",
              "Name: payment_value, dtype: float64"
            ]
          },
          "metadata": {},
          "execution_count": 90
        }
      ]
    },
    {
      "cell_type": "markdown",
      "source": [
        "#### Identificando valores únicos em uma Series\n",
        "\n",
        "- Utilize os dados do conjunto olist_order_payments_dataset.csv (o mesmo do exemplo anterior) e demonstre os valores únicos para a coluna \"payment_type\"\"\n"
      ],
      "metadata": {
        "id": "87BXE1S6fKB4"
      }
    },
    {
      "cell_type": "code",
      "source": [
        "#@title Ver exemplo\n",
        "import pandas as pd\n",
        "df = pd.read_csv(\"olist_order_payments_dataset.csv\")\n",
        "\n",
        "print(df[\"payment_type\"].unique())"
      ],
      "metadata": {
        "id": "GGNlxIf9fRTH",
        "cellView": "form"
      },
      "execution_count": null,
      "outputs": []
    },
    {
      "cell_type": "code",
      "source": [
        "order_payments['payment_type'].unique()"
      ],
      "metadata": {
        "id": "tBhJw8JggOdJ",
        "colab": {
          "base_uri": "https://localhost:8080/"
        },
        "outputId": "f2f1b4dd-487b-4fe0-8067-9bc25d3b6772"
      },
      "execution_count": 91,
      "outputs": [
        {
          "output_type": "execute_result",
          "data": {
            "text/plain": [
              "array(['credit_card', 'boleto', 'voucher', 'debit_card', 'not_defined'],\n",
              "      dtype=object)"
            ]
          },
          "metadata": {},
          "execution_count": 91
        }
      ]
    },
    {
      "cell_type": "markdown",
      "source": [
        "#### Contando valores únicos em uma Series\n",
        "\n",
        "- Utilize os dados do conjunto olist_order_payments_dataset.csv (o mesmo do exemplo anterior) e identifique a quantidade de elementos recorrentes (contagem) para a coluna \"payment_type\""
      ],
      "metadata": {
        "id": "ETIxt_NlgfUP"
      }
    },
    {
      "cell_type": "code",
      "source": [
        "#@title Ver exemplo\n",
        "import pandas as pd\n",
        "df = pd.read_csv(\"olist_order_payments_dataset.csv\")\n",
        "\n",
        "print(df[\"payment_type\"].value_counts())"
      ],
      "metadata": {
        "cellView": "form",
        "id": "qcWwRpYcgnjX",
        "colab": {
          "base_uri": "https://localhost:8080/"
        },
        "outputId": "d2141f2c-d090-47da-80b0-9507c844f268"
      },
      "execution_count": 92,
      "outputs": [
        {
          "output_type": "stream",
          "name": "stdout",
          "text": [
            "credit_card    76795\n",
            "boleto         19784\n",
            "voucher         5775\n",
            "debit_card      1529\n",
            "not_defined        3\n",
            "Name: payment_type, dtype: int64\n"
          ]
        }
      ]
    },
    {
      "cell_type": "code",
      "source": [
        "order_payments['payment_type'].value_counts()"
      ],
      "metadata": {
        "id": "CJwOnjsKgxeK",
        "colab": {
          "base_uri": "https://localhost:8080/"
        },
        "outputId": "314090e1-7801-46e8-8838-bf68c050875f"
      },
      "execution_count": 95,
      "outputs": [
        {
          "output_type": "execute_result",
          "data": {
            "text/plain": [
              "credit_card    76795\n",
              "boleto         19784\n",
              "voucher         5775\n",
              "debit_card      1529\n",
              "not_defined        3\n",
              "Name: payment_type, dtype: int64"
            ]
          },
          "metadata": {},
          "execution_count": 95
        }
      ]
    },
    {
      "cell_type": "markdown",
      "metadata": {
        "id": "PkKkjLeOpiR2"
      },
      "source": [
        "#### Algumas funções importantes para DataFrame/Series\n",
        "\n",
        "Sr.No.|Function|Description|\n",
        "------|--------|-----------|\n",
        "1|count()|Number of non-null observations|\n",
        "2|sum()|Sum of values|\n",
        "3|mean()|Mean of Values|\n",
        "4|median()|Median of Values|\n",
        "5|mode()|Mode of values|\n",
        "6|std()|Standard Deviation of the Values|\n",
        "7|min()|Minimum Value|\n",
        "8|max()|Maximum Value|\n",
        "9|abs()|Absolute Value|\n",
        "10|prod()|Product of Values|\n",
        "11|cumsum()|Cumulative Sum|\n",
        "12|cumprod()|Cumulative Product|\n",
        "13|describe()|function computes a summary of statistics pertaining to the DataFrame columns.|\n",
        "\n",
        "- Importe o conjunto de dados olist_order_payments_dataset.csv e utilize o método describe para a coluna 'payment_value'.  "
      ]
    },
    {
      "cell_type": "code",
      "execution_count": null,
      "metadata": {
        "id": "HCPY1YcApiR2",
        "cellView": "form"
      },
      "outputs": [],
      "source": [
        "#@title Ver exemplo\n",
        "df_payments = pd.read_csv(\"olist_order_payments_dataset.csv\")\n",
        "df_payments_payvalue = df_payments['payment_value']\n",
        "\n",
        "print('\\nMédia:', df_payments_payvalue.mean())\n",
        "print('\\nDesvio Padrão:', df_payments_payvalue.std())\n",
        "print('\\nModa:', df_payments_payvalue.mode())\n",
        "print('\\nDados Estatísticos:', df_payments_payvalue.describe())"
      ]
    },
    {
      "cell_type": "code",
      "source": [
        "order_payments['payment_value'].describe()"
      ],
      "metadata": {
        "id": "rQhLePkhX41f",
        "colab": {
          "base_uri": "https://localhost:8080/"
        },
        "outputId": "c0998fb5-69c3-418b-d9dd-d611295e6322"
      },
      "execution_count": 97,
      "outputs": [
        {
          "output_type": "execute_result",
          "data": {
            "text/plain": [
              "count    103886.000000\n",
              "mean        154.100380\n",
              "std         217.494064\n",
              "min           0.000000\n",
              "25%          56.790000\n",
              "50%         100.000000\n",
              "75%         171.837500\n",
              "max       13664.080000\n",
              "Name: payment_value, dtype: float64"
            ]
          },
          "metadata": {},
          "execution_count": 97
        }
      ]
    },
    {
      "cell_type": "markdown",
      "metadata": {
        "id": "GF-pmHFfpiR3"
      },
      "source": [
        "#### SubConjunto - Pandas\n",
        "- Caso seja do seu interesse extrair um subconjunto de dados de um DataFrame, com base em uma regra, utilize os operadores relacionais\n",
        "\n",
        "Operador|Descrição|\n",
        "--------|---------|\n",
        "==|igual|\n",
        "!=|diferente|\n",
        ">|maior|\n",
        "<|menor|\n",
        ">=|maior ou igual|\n",
        "<=|menor ou igual|\n",
        "\n",
        "- Crie um subconjunto de dados, contendo apenas os pagamentos realizados com \"credit_card\". Para isso, utilize o conjunto de dados olist_order_payments_dataset.csv\n"
      ]
    },
    {
      "cell_type": "code",
      "execution_count": null,
      "metadata": {
        "id": "GOpJSiStpiR3",
        "cellView": "form"
      },
      "outputs": [],
      "source": [
        "#@title Ver exemplo\n",
        "df_payments = pd.read_csv(\"olist_order_payments_dataset.csv\")\n",
        "\n",
        "regra = df_payments.payment_type == 'credit_card' #podemos gerar uma regra que \"verificará\" todo data frame\n",
        "display('\\nRegras\\n',df_payments[regra])\n",
        "\n"
      ]
    },
    {
      "cell_type": "code",
      "source": [
        "credit_card=order_payments[order_payments['payment_type']=='credit_card']"
      ],
      "metadata": {
        "id": "74N_w-8IX3SG"
      },
      "execution_count": 102,
      "outputs": []
    },
    {
      "cell_type": "code",
      "source": [
        "credit_card.head(10)"
      ],
      "metadata": {
        "colab": {
          "base_uri": "https://localhost:8080/",
          "height": 363
        },
        "id": "s88LBFYtbdrP",
        "outputId": "5316c7b9-879e-424b-db97-118e4f95a686"
      },
      "execution_count": 104,
      "outputs": [
        {
          "output_type": "execute_result",
          "data": {
            "text/plain": [
              "                            order_id  payment_sequential payment_type  \\\n",
              "0   b81ef226f3fe1789b1e8b2acac839d17                   1  credit_card   \n",
              "1   a9810da82917af2d9aefd1278f1dcfa0                   1  credit_card   \n",
              "2   25e8ea4e93396b6fa0d3dd708e76c1bd                   1  credit_card   \n",
              "3   ba78997921bbcdc1373bb41e913ab953                   1  credit_card   \n",
              "4   42fdf880ba16b47b59251dd489d4441a                   1  credit_card   \n",
              "5   298fcdf1f73eb413e4d26d01b25bc1cd                   1  credit_card   \n",
              "6   771ee386b001f06208a7419e4fc1bbd7                   1  credit_card   \n",
              "7   3d7239c394a212faae122962df514ac7                   1  credit_card   \n",
              "8   1f78449c87a54faf9e96e88ba1491fa9                   1  credit_card   \n",
              "10  d88e0d5fa41661ce03cf6cf336527646                   1  credit_card   \n",
              "\n",
              "    payment_installments  payment_value  \n",
              "0                      8          99.33  \n",
              "1                      1          24.39  \n",
              "2                      1          65.71  \n",
              "3                      8         107.78  \n",
              "4                      2         128.45  \n",
              "5                      2          96.12  \n",
              "6                      1          81.16  \n",
              "7                      3          51.84  \n",
              "8                      6         341.09  \n",
              "10                     8         188.73  "
            ],
            "text/html": [
              "\n",
              "  <div id=\"df-ad2b3e18-0dcb-42ab-87ca-6fc5e8169267\">\n",
              "    <div class=\"colab-df-container\">\n",
              "      <div>\n",
              "<style scoped>\n",
              "    .dataframe tbody tr th:only-of-type {\n",
              "        vertical-align: middle;\n",
              "    }\n",
              "\n",
              "    .dataframe tbody tr th {\n",
              "        vertical-align: top;\n",
              "    }\n",
              "\n",
              "    .dataframe thead th {\n",
              "        text-align: right;\n",
              "    }\n",
              "</style>\n",
              "<table border=\"1\" class=\"dataframe\">\n",
              "  <thead>\n",
              "    <tr style=\"text-align: right;\">\n",
              "      <th></th>\n",
              "      <th>order_id</th>\n",
              "      <th>payment_sequential</th>\n",
              "      <th>payment_type</th>\n",
              "      <th>payment_installments</th>\n",
              "      <th>payment_value</th>\n",
              "    </tr>\n",
              "  </thead>\n",
              "  <tbody>\n",
              "    <tr>\n",
              "      <th>0</th>\n",
              "      <td>b81ef226f3fe1789b1e8b2acac839d17</td>\n",
              "      <td>1</td>\n",
              "      <td>credit_card</td>\n",
              "      <td>8</td>\n",
              "      <td>99.33</td>\n",
              "    </tr>\n",
              "    <tr>\n",
              "      <th>1</th>\n",
              "      <td>a9810da82917af2d9aefd1278f1dcfa0</td>\n",
              "      <td>1</td>\n",
              "      <td>credit_card</td>\n",
              "      <td>1</td>\n",
              "      <td>24.39</td>\n",
              "    </tr>\n",
              "    <tr>\n",
              "      <th>2</th>\n",
              "      <td>25e8ea4e93396b6fa0d3dd708e76c1bd</td>\n",
              "      <td>1</td>\n",
              "      <td>credit_card</td>\n",
              "      <td>1</td>\n",
              "      <td>65.71</td>\n",
              "    </tr>\n",
              "    <tr>\n",
              "      <th>3</th>\n",
              "      <td>ba78997921bbcdc1373bb41e913ab953</td>\n",
              "      <td>1</td>\n",
              "      <td>credit_card</td>\n",
              "      <td>8</td>\n",
              "      <td>107.78</td>\n",
              "    </tr>\n",
              "    <tr>\n",
              "      <th>4</th>\n",
              "      <td>42fdf880ba16b47b59251dd489d4441a</td>\n",
              "      <td>1</td>\n",
              "      <td>credit_card</td>\n",
              "      <td>2</td>\n",
              "      <td>128.45</td>\n",
              "    </tr>\n",
              "    <tr>\n",
              "      <th>5</th>\n",
              "      <td>298fcdf1f73eb413e4d26d01b25bc1cd</td>\n",
              "      <td>1</td>\n",
              "      <td>credit_card</td>\n",
              "      <td>2</td>\n",
              "      <td>96.12</td>\n",
              "    </tr>\n",
              "    <tr>\n",
              "      <th>6</th>\n",
              "      <td>771ee386b001f06208a7419e4fc1bbd7</td>\n",
              "      <td>1</td>\n",
              "      <td>credit_card</td>\n",
              "      <td>1</td>\n",
              "      <td>81.16</td>\n",
              "    </tr>\n",
              "    <tr>\n",
              "      <th>7</th>\n",
              "      <td>3d7239c394a212faae122962df514ac7</td>\n",
              "      <td>1</td>\n",
              "      <td>credit_card</td>\n",
              "      <td>3</td>\n",
              "      <td>51.84</td>\n",
              "    </tr>\n",
              "    <tr>\n",
              "      <th>8</th>\n",
              "      <td>1f78449c87a54faf9e96e88ba1491fa9</td>\n",
              "      <td>1</td>\n",
              "      <td>credit_card</td>\n",
              "      <td>6</td>\n",
              "      <td>341.09</td>\n",
              "    </tr>\n",
              "    <tr>\n",
              "      <th>10</th>\n",
              "      <td>d88e0d5fa41661ce03cf6cf336527646</td>\n",
              "      <td>1</td>\n",
              "      <td>credit_card</td>\n",
              "      <td>8</td>\n",
              "      <td>188.73</td>\n",
              "    </tr>\n",
              "  </tbody>\n",
              "</table>\n",
              "</div>\n",
              "      <button class=\"colab-df-convert\" onclick=\"convertToInteractive('df-ad2b3e18-0dcb-42ab-87ca-6fc5e8169267')\"\n",
              "              title=\"Convert this dataframe to an interactive table.\"\n",
              "              style=\"display:none;\">\n",
              "        \n",
              "  <svg xmlns=\"http://www.w3.org/2000/svg\" height=\"24px\"viewBox=\"0 0 24 24\"\n",
              "       width=\"24px\">\n",
              "    <path d=\"M0 0h24v24H0V0z\" fill=\"none\"/>\n",
              "    <path d=\"M18.56 5.44l.94 2.06.94-2.06 2.06-.94-2.06-.94-.94-2.06-.94 2.06-2.06.94zm-11 1L8.5 8.5l.94-2.06 2.06-.94-2.06-.94L8.5 2.5l-.94 2.06-2.06.94zm10 10l.94 2.06.94-2.06 2.06-.94-2.06-.94-.94-2.06-.94 2.06-2.06.94z\"/><path d=\"M17.41 7.96l-1.37-1.37c-.4-.4-.92-.59-1.43-.59-.52 0-1.04.2-1.43.59L10.3 9.45l-7.72 7.72c-.78.78-.78 2.05 0 2.83L4 21.41c.39.39.9.59 1.41.59.51 0 1.02-.2 1.41-.59l7.78-7.78 2.81-2.81c.8-.78.8-2.07 0-2.86zM5.41 20L4 18.59l7.72-7.72 1.47 1.35L5.41 20z\"/>\n",
              "  </svg>\n",
              "      </button>\n",
              "      \n",
              "  <style>\n",
              "    .colab-df-container {\n",
              "      display:flex;\n",
              "      flex-wrap:wrap;\n",
              "      gap: 12px;\n",
              "    }\n",
              "\n",
              "    .colab-df-convert {\n",
              "      background-color: #E8F0FE;\n",
              "      border: none;\n",
              "      border-radius: 50%;\n",
              "      cursor: pointer;\n",
              "      display: none;\n",
              "      fill: #1967D2;\n",
              "      height: 32px;\n",
              "      padding: 0 0 0 0;\n",
              "      width: 32px;\n",
              "    }\n",
              "\n",
              "    .colab-df-convert:hover {\n",
              "      background-color: #E2EBFA;\n",
              "      box-shadow: 0px 1px 2px rgba(60, 64, 67, 0.3), 0px 1px 3px 1px rgba(60, 64, 67, 0.15);\n",
              "      fill: #174EA6;\n",
              "    }\n",
              "\n",
              "    [theme=dark] .colab-df-convert {\n",
              "      background-color: #3B4455;\n",
              "      fill: #D2E3FC;\n",
              "    }\n",
              "\n",
              "    [theme=dark] .colab-df-convert:hover {\n",
              "      background-color: #434B5C;\n",
              "      box-shadow: 0px 1px 3px 1px rgba(0, 0, 0, 0.15);\n",
              "      filter: drop-shadow(0px 1px 2px rgba(0, 0, 0, 0.3));\n",
              "      fill: #FFFFFF;\n",
              "    }\n",
              "  </style>\n",
              "\n",
              "      <script>\n",
              "        const buttonEl =\n",
              "          document.querySelector('#df-ad2b3e18-0dcb-42ab-87ca-6fc5e8169267 button.colab-df-convert');\n",
              "        buttonEl.style.display =\n",
              "          google.colab.kernel.accessAllowed ? 'block' : 'none';\n",
              "\n",
              "        async function convertToInteractive(key) {\n",
              "          const element = document.querySelector('#df-ad2b3e18-0dcb-42ab-87ca-6fc5e8169267');\n",
              "          const dataTable =\n",
              "            await google.colab.kernel.invokeFunction('convertToInteractive',\n",
              "                                                     [key], {});\n",
              "          if (!dataTable) return;\n",
              "\n",
              "          const docLinkHtml = 'Like what you see? Visit the ' +\n",
              "            '<a target=\"_blank\" href=https://colab.research.google.com/notebooks/data_table.ipynb>data table notebook</a>'\n",
              "            + ' to learn more about interactive tables.';\n",
              "          element.innerHTML = '';\n",
              "          dataTable['output_type'] = 'display_data';\n",
              "          await google.colab.output.renderOutput(dataTable, element);\n",
              "          const docLink = document.createElement('div');\n",
              "          docLink.innerHTML = docLinkHtml;\n",
              "          element.appendChild(docLink);\n",
              "        }\n",
              "      </script>\n",
              "    </div>\n",
              "  </div>\n",
              "  "
            ]
          },
          "metadata": {},
          "execution_count": 104
        }
      ]
    },
    {
      "cell_type": "markdown",
      "metadata": {
        "id": "zVmFXKgipiR2"
      },
      "source": [
        "#### Criando um DataFrame do zero\n",
        "\n",
        "- Crie um dataframe do zero (neste exemplo vamos usar um dicionário)"
      ]
    },
    {
      "cell_type": "code",
      "execution_count": null,
      "metadata": {
        "id": "zbTyHbzcpiR3",
        "cellView": "form"
      },
      "outputs": [],
      "source": [
        "#@title Ver exemplo\n",
        "import pandas as pd \n",
        "  \n",
        "# inicializando as listas\n",
        "dados = [\n",
        "    ['Marge', 10], \n",
        "    ['Bart', 5.5], \n",
        "    ['Lisa', 9.5]\n",
        "]  #cada elemento da lista é uma lista com todos os dados da \"linha\"\n",
        "cabecalho = ['Nome', 'Nota'] #titulos das colunas\n",
        "  \n",
        "# Create the pandas DataFrame \n",
        "df = pd.DataFrame(data = dados, columns = cabecalho) #neste caso, como esta não é a ordem correta dos parâmetros, podemos \"forçar seu nome\"\n",
        "  \n",
        "# print dataframe. \n",
        "display(df)\n",
        "\n",
        "#Extra! Criando uma planilha do excel com estes dados\n",
        "df.to_excel('alunos_notas.xlsx',index = False) \n",
        "\n",
        "#Extra! Criando uma planilha csv com estes dados\n",
        "df.to_csv('alunos_notas.csv', index = False) #remove o indice\n",
        "\n",
        "#Extra! Criando uma planilha csv com estes dados\n",
        "df.to_csv('alunos_notas_2.csv', index = True) #não remove o indice\n",
        "\n",
        "regras = df.Nota >= 6.0\n",
        "display(df[df.Nota >= 6.0])"
      ]
    },
    {
      "cell_type": "code",
      "source": [
        "  dicionario={'Nome':['Joao','Pedro','Raul','Carlos'],'Idade':[19,22,31,45],'UF':['SP','RJ','SP','MG'],}"
      ],
      "metadata": {
        "id": "MWsqsFB2X4TK"
      },
      "execution_count": 110,
      "outputs": []
    },
    {
      "cell_type": "code",
      "source": [
        "frame=pd.DataFrame(dicionario)"
      ],
      "metadata": {
        "id": "yrYwxJ1acaNG"
      },
      "execution_count": 112,
      "outputs": []
    },
    {
      "cell_type": "code",
      "source": [
        "frame"
      ],
      "metadata": {
        "colab": {
          "base_uri": "https://localhost:8080/",
          "height": 175
        },
        "id": "dpASvE7Ocvir",
        "outputId": "87fd501b-8f25-4a32-a224-e3543948352e"
      },
      "execution_count": 113,
      "outputs": [
        {
          "output_type": "execute_result",
          "data": {
            "text/plain": [
              "     Nome  Idade  UF\n",
              "0    Joao     19  SP\n",
              "1   Pedro     22  RJ\n",
              "2    Raul     31  SP\n",
              "3  Carlos     45  MG"
            ],
            "text/html": [
              "\n",
              "  <div id=\"df-8761bfd3-d2a7-4fea-9520-7b5ba0d18e77\">\n",
              "    <div class=\"colab-df-container\">\n",
              "      <div>\n",
              "<style scoped>\n",
              "    .dataframe tbody tr th:only-of-type {\n",
              "        vertical-align: middle;\n",
              "    }\n",
              "\n",
              "    .dataframe tbody tr th {\n",
              "        vertical-align: top;\n",
              "    }\n",
              "\n",
              "    .dataframe thead th {\n",
              "        text-align: right;\n",
              "    }\n",
              "</style>\n",
              "<table border=\"1\" class=\"dataframe\">\n",
              "  <thead>\n",
              "    <tr style=\"text-align: right;\">\n",
              "      <th></th>\n",
              "      <th>Nome</th>\n",
              "      <th>Idade</th>\n",
              "      <th>UF</th>\n",
              "    </tr>\n",
              "  </thead>\n",
              "  <tbody>\n",
              "    <tr>\n",
              "      <th>0</th>\n",
              "      <td>Joao</td>\n",
              "      <td>19</td>\n",
              "      <td>SP</td>\n",
              "    </tr>\n",
              "    <tr>\n",
              "      <th>1</th>\n",
              "      <td>Pedro</td>\n",
              "      <td>22</td>\n",
              "      <td>RJ</td>\n",
              "    </tr>\n",
              "    <tr>\n",
              "      <th>2</th>\n",
              "      <td>Raul</td>\n",
              "      <td>31</td>\n",
              "      <td>SP</td>\n",
              "    </tr>\n",
              "    <tr>\n",
              "      <th>3</th>\n",
              "      <td>Carlos</td>\n",
              "      <td>45</td>\n",
              "      <td>MG</td>\n",
              "    </tr>\n",
              "  </tbody>\n",
              "</table>\n",
              "</div>\n",
              "      <button class=\"colab-df-convert\" onclick=\"convertToInteractive('df-8761bfd3-d2a7-4fea-9520-7b5ba0d18e77')\"\n",
              "              title=\"Convert this dataframe to an interactive table.\"\n",
              "              style=\"display:none;\">\n",
              "        \n",
              "  <svg xmlns=\"http://www.w3.org/2000/svg\" height=\"24px\"viewBox=\"0 0 24 24\"\n",
              "       width=\"24px\">\n",
              "    <path d=\"M0 0h24v24H0V0z\" fill=\"none\"/>\n",
              "    <path d=\"M18.56 5.44l.94 2.06.94-2.06 2.06-.94-2.06-.94-.94-2.06-.94 2.06-2.06.94zm-11 1L8.5 8.5l.94-2.06 2.06-.94-2.06-.94L8.5 2.5l-.94 2.06-2.06.94zm10 10l.94 2.06.94-2.06 2.06-.94-2.06-.94-.94-2.06-.94 2.06-2.06.94z\"/><path d=\"M17.41 7.96l-1.37-1.37c-.4-.4-.92-.59-1.43-.59-.52 0-1.04.2-1.43.59L10.3 9.45l-7.72 7.72c-.78.78-.78 2.05 0 2.83L4 21.41c.39.39.9.59 1.41.59.51 0 1.02-.2 1.41-.59l7.78-7.78 2.81-2.81c.8-.78.8-2.07 0-2.86zM5.41 20L4 18.59l7.72-7.72 1.47 1.35L5.41 20z\"/>\n",
              "  </svg>\n",
              "      </button>\n",
              "      \n",
              "  <style>\n",
              "    .colab-df-container {\n",
              "      display:flex;\n",
              "      flex-wrap:wrap;\n",
              "      gap: 12px;\n",
              "    }\n",
              "\n",
              "    .colab-df-convert {\n",
              "      background-color: #E8F0FE;\n",
              "      border: none;\n",
              "      border-radius: 50%;\n",
              "      cursor: pointer;\n",
              "      display: none;\n",
              "      fill: #1967D2;\n",
              "      height: 32px;\n",
              "      padding: 0 0 0 0;\n",
              "      width: 32px;\n",
              "    }\n",
              "\n",
              "    .colab-df-convert:hover {\n",
              "      background-color: #E2EBFA;\n",
              "      box-shadow: 0px 1px 2px rgba(60, 64, 67, 0.3), 0px 1px 3px 1px rgba(60, 64, 67, 0.15);\n",
              "      fill: #174EA6;\n",
              "    }\n",
              "\n",
              "    [theme=dark] .colab-df-convert {\n",
              "      background-color: #3B4455;\n",
              "      fill: #D2E3FC;\n",
              "    }\n",
              "\n",
              "    [theme=dark] .colab-df-convert:hover {\n",
              "      background-color: #434B5C;\n",
              "      box-shadow: 0px 1px 3px 1px rgba(0, 0, 0, 0.15);\n",
              "      filter: drop-shadow(0px 1px 2px rgba(0, 0, 0, 0.3));\n",
              "      fill: #FFFFFF;\n",
              "    }\n",
              "  </style>\n",
              "\n",
              "      <script>\n",
              "        const buttonEl =\n",
              "          document.querySelector('#df-8761bfd3-d2a7-4fea-9520-7b5ba0d18e77 button.colab-df-convert');\n",
              "        buttonEl.style.display =\n",
              "          google.colab.kernel.accessAllowed ? 'block' : 'none';\n",
              "\n",
              "        async function convertToInteractive(key) {\n",
              "          const element = document.querySelector('#df-8761bfd3-d2a7-4fea-9520-7b5ba0d18e77');\n",
              "          const dataTable =\n",
              "            await google.colab.kernel.invokeFunction('convertToInteractive',\n",
              "                                                     [key], {});\n",
              "          if (!dataTable) return;\n",
              "\n",
              "          const docLinkHtml = 'Like what you see? Visit the ' +\n",
              "            '<a target=\"_blank\" href=https://colab.research.google.com/notebooks/data_table.ipynb>data table notebook</a>'\n",
              "            + ' to learn more about interactive tables.';\n",
              "          element.innerHTML = '';\n",
              "          dataTable['output_type'] = 'display_data';\n",
              "          await google.colab.output.renderOutput(dataTable, element);\n",
              "          const docLink = document.createElement('div');\n",
              "          docLink.innerHTML = docLinkHtml;\n",
              "          element.appendChild(docLink);\n",
              "        }\n",
              "      </script>\n",
              "    </div>\n",
              "  </div>\n",
              "  "
            ]
          },
          "metadata": {},
          "execution_count": 113
        }
      ]
    },
    {
      "cell_type": "markdown",
      "metadata": {
        "id": "r4E5mLZcpiR3"
      },
      "source": [
        "### Bibliotecas - Gráfica (Matplotlib)\n",
        "\n",
        "- Utulize um conjunto de listas para plotar um gráfico utilizando a biblioteca MatPlotLib"
      ]
    },
    {
      "cell_type": "code",
      "execution_count": null,
      "metadata": {
        "id": "aufhjjRqpiR3",
        "cellView": "form"
      },
      "outputs": [],
      "source": [
        "#@title Ver exemplo\n",
        "import matplotlib.pyplot as plt\n",
        "\n",
        "medias = [5.4, 6.7, 5.2, 8.5, 9.5]\n",
        "anos = list(range(2016, 2021))\n",
        "\n",
        "plt.plot(anos, medias)\n",
        "plt.show()"
      ]
    },
    {
      "cell_type": "code",
      "source": [
        "ano=[1,2,3,4,5,6,7,8,9,10]\n",
        "vendas=[100,250,350,500,250,100,250,350,500,250]"
      ],
      "metadata": {
        "id": "CX_sfEazX24T"
      },
      "execution_count": 114,
      "outputs": []
    },
    {
      "cell_type": "code",
      "source": [
        "import matplotlib.pyplot as plt\n",
        "plt.plot(ano,vendas) \n",
        "plt.show()"
      ],
      "metadata": {
        "colab": {
          "base_uri": "https://localhost:8080/",
          "height": 265
        },
        "id": "YJfpfnjgdFsk",
        "outputId": "579c317e-81a4-4b53-a0f2-9a15e3febdad"
      },
      "execution_count": 117,
      "outputs": [
        {
          "output_type": "display_data",
          "data": {
            "text/plain": [
              "<Figure size 432x288 with 1 Axes>"
            ],
            "image/png": "[encoded data removed]"
          },
          "metadata": {
            "needs_background": "light"
          }
        }
      ]
    }
  ],
  "metadata": {
    "kernelspec": {
      "display_name": "Python 3",
      "language": "python",
      "name": "python3"
    },
    "language_info": {
      "codemirror_mode": {
        "name": "ipython",
        "version": 3
      },
      "file_extension": ".py",
      "mimetype": "text/x-python",
      "name": "python",
      "nbconvert_exporter": "python",
      "pygments_lexer": "ipython3",
      "version": "3.7.4"
    },
    "colab": {
      "name": "Revisao.ipynb",
      "provenance": [],
      "include_colab_link": true
    }
  },
  "nbformat": 4,
  "nbformat_minor": 0
}